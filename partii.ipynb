{
 "cells": [
  {
   "cell_type": "code",
   "execution_count": null,
   "metadata": {},
   "outputs": [],
   "source": [
    "# Student: Brunna Martins Villar Torino\n",
    "# Student #: 12126969\n",
    "# TA thanos"
   ]
  },
  {
   "cell_type": "code",
   "execution_count": null,
   "metadata": {},
   "outputs": [],
   "source": [
    "def find_innermost_substring(s):\n",
    "    # recurse through the first half of the string left to right\n",
    "    if '[' in s:\n",
    "        return find_innermost_substring(s[1:])\n",
    "    # after all the opening brackets are done, recurse through the second half, starting from right to left\n",
    "    elif ']' in s:\n",
    "        return find_innermost_substring(s[:-1])\n",
    "    # return the remaining string s with neither [ nor ]\n",
    "    else:\n",
    "        return s"
   ]
  },
  {
   "cell_type": "code",
   "execution_count": null,
   "metadata": {},
   "outputs": [],
   "source": [
    "s = \"outer[in[inner[inner]inner]in]outer\"\n",
    "find_innermost_substring(s)"
   ]
  },
  {
   "cell_type": "code",
   "execution_count": 96,
   "metadata": {},
   "outputs": [],
   "source": [
    "class Grades_Manager(object):\n",
    "    \n",
    "    def __init__(self):\n",
    "        # ask user to set the user id and password\n",
    "        self.userid = input('Enter user id:  ')\n",
    "        self.password = input('Enter password:  ')\n",
    "        # initializing the grades dictionary\n",
    "        self.grades = {}\n",
    "        \n",
    "        # calling __add_rubric function and storing string of assignment names\n",
    "        assignments = Grades_Manager.__add_rubric(self)\n",
    "        # splitting string by the comma and creating a list of strings\n",
    "        self.assignmentlist = list(assignments.split(','))\n",
    "        \n",
    "        for assignment in self.assignmentlist:\n",
    "            # eliminating any whitespace in the string to avoid errors between assignment 1 and assignment1 for example\n",
    "            assignment = assignment.replace(\" \", \"\")\n",
    "            # transforming assignment name\n",
    "            \n",
    "        if Grades_Manager.__validate_input(self) is False:\n",
    "            print('error, please try again later')\n",
    "            \n",
    "    def __authenticated(self):\n",
    "        \n",
    "        if input(\"Enter password\") == self.password:\n",
    "            return True\n",
    "        else:\n",
    "            return False\n",
    "                \n",
    "    def __validate_input(self):\n",
    "        \n",
    "        if (type(self.userid) == str) & (type(self.password) == str )& (len(self.password) >= 4) :\n",
    "            return True\n",
    "        else:\n",
    "            return False\n",
    "        \n",
    "    def __add_rubric(self):\n",
    "        \n",
    "        assignmentlist = input('Enter names of assignments separated by comma:')\n",
    "        return assignmentlist\n",
    "\n",
    "    def set_grades(self):\n",
    "        # YOUR CODE HERE\n",
    "        \n",
    "        if Grades_Manager.__authenticated(self) is True:\n",
    "            \n",
    "            studentname = input(\"Name of Student\")\n",
    "            if studentname not in self.grades: \n",
    "                self.grades[studentname] = {}\n",
    "            assignment = input(\"Name of Assignment\")\n",
    "            assignment = assignment.replace(\" \", \"\")\n",
    "            points = int(input(\"Number of Points\"))\n",
    "            \n",
    "            self.grades[studentname][assignment] = points\n",
    "            \n",
    "            for assignment in self.assignmentlist:\n",
    "                if assignment not in self.grades[studentname]:\n",
    "                    self.grades[studentname][assignment] = 0\n",
    "                        \n",
    "        else:\n",
    "            print(\"incorrect password, access to grades denied\")\n",
    "\n",
    "    def show_report(self, student_name):\n",
    "        \n",
    "        print( \"\"\"\n",
    "            Grades for \"\"\", student_name)\n",
    "        \n",
    "        print(\"\"\"\n",
    "            ------\n",
    "            \"\"\")\n",
    "        \n",
    "        for key, value in self.grades[student_name].items():\n",
    "            print(\"Component \", key, ':', value)\n",
    "    \n",
    "        value_list = [value for key,value in self.grades[student_name].items()]\n",
    "        average = sum(value_list) / len(value_list)\n",
    "        \n",
    "        print('Final (weighted) grade is',average )\n",
    "        if average > 5:\n",
    "            print('The', student_name, 'passed the course!')\n",
    "        else:\n",
    "            print('The', student_name, 'failed the course!')"
   ]
  },
  {
   "cell_type": "code",
   "execution_count": 97,
   "metadata": {},
   "outputs": [
    {
     "name": "stdin",
     "output_type": "stream",
     "text": [
      "Enter user id:   teacher\n",
      "Enter password:   teacherpassword\n",
      "Enter names of assignments separated by comma: assignment1,assignment2\n"
     ]
    }
   ],
   "source": [
    "teacher = Grades_Manager()"
   ]
  },
  {
   "cell_type": "code",
   "execution_count": 103,
   "metadata": {},
   "outputs": [
    {
     "name": "stdin",
     "output_type": "stream",
     "text": [
      "Enter password anotherpassword\n"
     ]
    },
    {
     "name": "stdout",
     "output_type": "stream",
     "text": [
      "incorrect password, access to grades denied\n"
     ]
    }
   ],
   "source": [
    "teacher.set_grades()\n"
   ]
  },
  {
   "cell_type": "code",
   "execution_count": 100,
   "metadata": {},
   "outputs": [
    {
     "name": "stdout",
     "output_type": "stream",
     "text": [
      "\n",
      "            Grades for  brunna\n",
      "\n",
      "            ------\n",
      "            \n",
      "Component  assignment1 : 10\n",
      "Component  assignment2 : 0\n",
      "Component  assignment3 : 10\n",
      "Final (weighted) grade is 6.666666666666667\n",
      "The brunna passed the course!\n"
     ]
    }
   ],
   "source": [
    "teacher.show_report('brunna') "
   ]
  },
  {
   "cell_type": "code",
   "execution_count": null,
   "metadata": {},
   "outputs": [],
   "source": []
  }
 ],
 "metadata": {
  "kernelspec": {
   "display_name": "Python 3",
   "language": "python",
   "name": "python3"
  },
  "language_info": {
   "codemirror_mode": {
    "name": "ipython",
    "version": 3
   },
   "file_extension": ".py",
   "mimetype": "text/x-python",
   "name": "python",
   "nbconvert_exporter": "python",
   "pygments_lexer": "ipython3",
   "version": "3.8.3"
  }
 },
 "nbformat": 4,
 "nbformat_minor": 4
}
